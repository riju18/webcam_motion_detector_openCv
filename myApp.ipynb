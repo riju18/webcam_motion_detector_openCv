{
 "cells": [
  {
   "cell_type": "code",
   "execution_count": 1,
   "metadata": {},
   "outputs": [],
   "source": [
    "import cv2\n",
    "import time"
   ]
  },
  {
   "cell_type": "code",
   "execution_count": 2,
   "metadata": {},
   "outputs": [],
   "source": [
    "vid = cv2.VideoCapture(0)"
   ]
  },
  {
   "cell_type": "code",
   "execution_count": 3,
   "metadata": {},
   "outputs": [],
   "source": [
    "first_frm = None"
   ]
  },
  {
   "cell_type": "code",
   "execution_count": 4,
   "metadata": {},
   "outputs": [
    {
     "name": "stdout",
     "output_type": "stream",
     "text": [
      "[[5 5 5 ... 0 0 0]\n",
      " [5 5 5 ... 0 0 0]\n",
      " [4 4 4 ... 0 0 0]\n",
      " ...\n",
      " [0 0 0 ... 0 0 0]\n",
      " [0 0 0 ... 0 0 0]\n",
      " [0 0 0 ... 0 0 0]]\n",
      "[[7 7 6 ... 0 0 0]\n",
      " [7 7 6 ... 0 0 0]\n",
      " [6 6 6 ... 0 0 0]\n",
      " ...\n",
      " [0 0 0 ... 0 0 0]\n",
      " [0 0 0 ... 0 0 0]\n",
      " [0 0 0 ... 0 0 0]]\n",
      "[[7 7 6 ... 0 0 0]\n",
      " [7 7 6 ... 0 0 0]\n",
      " [6 6 6 ... 0 0 0]\n",
      " ...\n",
      " [0 0 0 ... 0 0 0]\n",
      " [0 0 0 ... 0 0 0]\n",
      " [0 0 0 ... 0 0 0]]\n",
      "[[7 7 6 ... 0 0 0]\n",
      " [7 7 6 ... 0 0 0]\n",
      " [6 6 6 ... 0 0 0]\n",
      " ...\n",
      " [0 0 0 ... 0 0 0]\n",
      " [0 0 0 ... 0 0 0]\n",
      " [0 0 0 ... 0 0 0]]\n",
      "[[7 7 6 ... 0 0 0]\n",
      " [7 7 6 ... 0 0 0]\n",
      " [6 6 6 ... 0 0 0]\n",
      " ...\n",
      " [0 0 0 ... 0 0 0]\n",
      " [0 0 0 ... 0 0 0]\n",
      " [0 0 0 ... 0 0 0]]\n",
      "[[7 7 6 ... 0 0 0]\n",
      " [7 7 6 ... 0 0 0]\n",
      " [6 6 6 ... 0 0 0]\n",
      " ...\n",
      " [0 0 0 ... 0 0 0]\n",
      " [0 0 0 ... 0 0 0]\n",
      " [0 0 0 ... 0 0 0]]\n",
      "[[7 7 6 ... 0 0 0]\n",
      " [7 7 6 ... 0 0 0]\n",
      " [6 6 6 ... 0 0 0]\n",
      " ...\n",
      " [0 0 0 ... 0 0 0]\n",
      " [0 0 0 ... 0 0 0]\n",
      " [0 0 0 ... 0 0 0]]\n",
      "[[7 7 6 ... 0 0 0]\n",
      " [7 7 6 ... 0 0 0]\n",
      " [6 6 6 ... 0 0 0]\n",
      " ...\n",
      " [0 0 0 ... 0 0 0]\n",
      " [0 0 0 ... 0 0 0]\n",
      " [0 0 0 ... 0 0 0]]\n",
      "[[7 7 6 ... 0 0 0]\n",
      " [7 7 6 ... 0 0 0]\n",
      " [6 6 6 ... 0 0 0]\n",
      " ...\n",
      " [0 0 0 ... 0 0 0]\n",
      " [0 0 0 ... 0 0 0]\n",
      " [0 0 0 ... 0 0 0]]\n",
      "[[7 7 6 ... 0 0 0]\n",
      " [7 7 6 ... 0 0 0]\n",
      " [6 6 6 ... 0 0 0]\n",
      " ...\n",
      " [0 0 0 ... 0 0 0]\n",
      " [0 0 0 ... 0 0 0]\n",
      " [0 0 0 ... 0 0 0]]\n",
      "[[7 7 6 ... 0 0 0]\n",
      " [7 7 6 ... 0 0 0]\n",
      " [6 6 6 ... 0 0 0]\n",
      " ...\n",
      " [0 0 0 ... 0 0 0]\n",
      " [0 0 0 ... 0 0 0]\n",
      " [0 0 0 ... 0 0 0]]\n",
      "[[7 7 6 ... 0 0 0]\n",
      " [7 7 6 ... 0 0 0]\n",
      " [6 6 6 ... 0 0 0]\n",
      " ...\n",
      " [0 0 0 ... 0 0 0]\n",
      " [0 0 0 ... 0 0 0]\n",
      " [0 0 0 ... 0 0 0]]\n",
      "[[7 7 6 ... 0 0 0]\n",
      " [7 7 6 ... 0 0 0]\n",
      " [6 6 6 ... 0 0 0]\n",
      " ...\n",
      " [0 0 0 ... 0 0 0]\n",
      " [0 0 0 ... 0 0 0]\n",
      " [0 0 0 ... 0 0 0]]\n",
      "[[7 7 6 ... 0 0 0]\n",
      " [7 7 6 ... 0 0 0]\n",
      " [6 6 6 ... 0 0 0]\n",
      " ...\n",
      " [0 0 0 ... 0 0 0]\n",
      " [0 0 0 ... 0 0 0]\n",
      " [0 0 0 ... 0 0 0]]\n",
      "[[7 7 6 ... 0 0 0]\n",
      " [7 7 6 ... 0 0 0]\n",
      " [6 6 6 ... 0 0 0]\n",
      " ...\n",
      " [0 0 0 ... 0 0 0]\n",
      " [0 0 0 ... 0 0 0]\n",
      " [0 0 0 ... 0 0 0]]\n"
     ]
    },
    {
     "data": {
      "text/plain": [
       "<function destroyAllWindows>"
      ]
     },
     "execution_count": 4,
     "metadata": {},
     "output_type": "execute_result"
    }
   ],
   "source": [
    "while True:\n",
    "    check,frame = vid.read()\n",
    "    \n",
    "    frameToGray = cv2.cvtColor(frame, cv2.COLOR_BGR2GRAY)\n",
    "    frameToGray = cv2.GaussianBlur(frameToGray, (21,21),0)\n",
    "    if first_frm is None:\n",
    "        first_frm = frameToGray\n",
    "        continue\n",
    "        \n",
    "    current_frame = cv2.absdiff(first_frm, frameToGray)  \n",
    "    threshhold_frame = cv2.threshold(current_frame, 30, 255, cv2.THRESH_BINARY)[1]\n",
    "    threshhold_frame = cv2.dilate(threshhold_frame, None, iterations = 2)\n",
    "    (_,contours,_) = cv2.findContours(threshhold_frame.copy(), cv2.RETR_EXTERNAL, cv2.CHAIN_APPROX_SIMPLE)\n",
    "    for cntr in contours:\n",
    "        if cv2.contourArea(cntr) < 1200:\n",
    "            continue\n",
    "        (x, y, z, h) = cv2.boundingRect(cntr)\n",
    "        cv2.rectangle(frame, (x, y), (x + w, y + h), (0, 255, 0), 3 )\n",
    "    \n",
    "    cv2.imshow('capturing', frameToGray)\n",
    "    cv2.imshow('current frame', current_frame)\n",
    "    cv2.imshow('threshhold frame', threshhold_frame)\n",
    "    \n",
    "    key = cv2.waitKey(1)\n",
    "    print(frameToGray)\n",
    "    if key == ord('q'):\n",
    "        break\n",
    "        \n",
    "vid.release()\n",
    "cv2.destroyAllWindows"
   ]
  },
  {
   "cell_type": "code",
   "execution_count": null,
   "metadata": {},
   "outputs": [],
   "source": []
  },
  {
   "cell_type": "code",
   "execution_count": null,
   "metadata": {},
   "outputs": [],
   "source": []
  }
 ],
 "metadata": {
  "kernelspec": {
   "display_name": "Python 3",
   "language": "python",
   "name": "python3"
  },
  "language_info": {
   "codemirror_mode": {
    "name": "ipython",
    "version": 3
   },
   "file_extension": ".py",
   "mimetype": "text/x-python",
   "name": "python",
   "nbconvert_exporter": "python",
   "pygments_lexer": "ipython3",
   "version": "3.6.7"
  }
 },
 "nbformat": 4,
 "nbformat_minor": 2
}
